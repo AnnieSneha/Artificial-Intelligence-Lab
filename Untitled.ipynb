{
 "cells": [
  {
   "cell_type": "code",
   "execution_count": 53,
   "id": "81282665",
   "metadata": {},
   "outputs": [
    {
     "name": "stdout",
     "output_type": "stream",
     "text": [
      "The size of the image 720000\n",
      "The resize of the image 192000\n"
     ]
    },
    {
     "data": {
      "text/plain": [
       "-1"
      ]
     },
     "execution_count": 53,
     "metadata": {},
     "output_type": "execute_result"
    }
   ],
   "source": [
    "import cv2\n",
    "image=cv2.imread('cat.jpg')\n",
    "print('The size of the image',image.size)\n",
    "cv2.imshow('image',image)\n",
    "cv2.waitKey(0)\n",
    "imgresize=cv2.resize(image,(400,160))\n",
    "cv2.imshow('imgresize',imgresize)\n",
    "print('The resize of the image',imgresize.size)\n",
    "cv2.waitKey(0)"
   ]
  },
  {
   "cell_type": "code",
   "execution_count": 81,
   "id": "365b53e4",
   "metadata": {},
   "outputs": [],
   "source": [
    "import pandas as pd\n",
    "from matplotlib import pyplot as plt\n",
    "import numpy as np\n",
    "plt.rcParams['figure.figsize']=(10,8)\n"
   ]
  },
  {
   "cell_type": "code",
   "execution_count": 82,
   "id": "2b510c89",
   "metadata": {},
   "outputs": [
    {
     "ename": "SyntaxError",
     "evalue": "invalid syntax (3095597673.py, line 1)",
     "output_type": "error",
     "traceback": [
      "\u001b[1;36m  Input \u001b[1;32mIn [82]\u001b[1;36m\u001b[0m\n\u001b[1;33m    def Show_Image(image,title=\"image\",cmap=cmap_type)\u001b[0m\n\u001b[1;37m                                                      ^\u001b[0m\n\u001b[1;31mSyntaxError\u001b[0m\u001b[1;31m:\u001b[0m invalid syntax\n"
     ]
    }
   ],
   "source": [
    "def show_image(image,title=\"image\",cmap=\"gray\")\n",
    "def show_image(image,title=\"image\",cmap=cmap_type)\n",
    "    plt.imshow(image,)\n",
    "    plt.title(title)\n",
    "    plt.axis(\"off\")\n",
    "def Plot_Comparison(Image,Image_Filter,Image_Title_Filter) \n",
    "    fig,(ax1,ax2)=plt.subplots(ncols=2,figuresize=(10,8),sharex=True,sharey=True)\n",
    "    ax1.imshow('Original_Image',cmap=plt.cm.gray)\n",
    "    ax1.title(Original_Image)\n",
    "    ax1.axis(\"off\")\n",
    "    \n",
    "    ax1.imshow('Image_Filter',cmap=plt.cm.gray)\n",
    "    ax1.title(Image_Filter)\n",
    "    ax1.axis(\"off\")"
   ]
  },
  {
   "cell_type": "code",
   "execution_count": 72,
   "id": "6aa5fb86",
   "metadata": {},
   "outputs": [
    {
     "ename": "NameError",
     "evalue": "name 'Plot_Comparison' is not defined",
     "output_type": "error",
     "traceback": [
      "\u001b[1;31m---------------------------------------------------------------------------\u001b[0m",
      "\u001b[1;31mNameError\u001b[0m                                 Traceback (most recent call last)",
      "Input \u001b[1;32mIn [72]\u001b[0m, in \u001b[0;36m<cell line: 4>\u001b[1;34m()\u001b[0m\n\u001b[0;32m      2\u001b[0m fruit_image\u001b[38;5;241m=\u001b[39mplt\u001b[38;5;241m.\u001b[39mimread(\u001b[38;5;124m'\u001b[39m\u001b[38;5;124mfruit.jpeg\u001b[39m\u001b[38;5;124m'\u001b[39m)\n\u001b[0;32m      3\u001b[0m noisy_image\u001b[38;5;241m=\u001b[39mrandom_noise(fruit_image)\n\u001b[1;32m----> 4\u001b[0m \u001b[43mPlot_Comparison\u001b[49m(fruit_image,noisy_image,\u001b[38;5;124m'\u001b[39m\u001b[38;5;124mnoisy_image\u001b[39m\u001b[38;5;124m'\u001b[39m)\n",
      "\u001b[1;31mNameError\u001b[0m: name 'Plot_Comparison' is not defined"
     ]
    }
   ],
   "source": [
    "from skimage.util import random_noise\n",
    "fruit_image=plt.imread('fruit.jpeg')\n",
    "noisy_image=random_noise(fruit_image)\n",
    "Plot_Comparison(fruit_image,noisy_image,'noisy_image')"
   ]
  },
  {
   "cell_type": "code",
   "execution_count": 47,
   "id": "c558bfb3",
   "metadata": {},
   "outputs": [
    {
     "ename": "SyntaxError",
     "evalue": "invalid syntax (2326906452.py, line 2)",
     "output_type": "error",
     "traceback": [
      "\u001b[1;36m  Input \u001b[1;32mIn [47]\u001b[1;36m\u001b[0m\n\u001b[1;33m    from matplotlib.pyplot as plt\u001b[0m\n\u001b[1;37m                           ^\u001b[0m\n\u001b[1;31mSyntaxError\u001b[0m\u001b[1;31m:\u001b[0m invalid syntax\n"
     ]
    }
   ],
   "source": [
    "from skimage.restoration import denoise_tv_chambolle\n",
    "Noisy_image=plt.imread('noisy.jpg')\n",
    "denoised_image=denoise_tv_chambolle(Noisy_image)\n",
    "Plot_Comparison(Noisy_image,denoised_image,'denoised_image')"
   ]
  },
  {
   "cell_type": "code",
   "execution_count": 64,
   "id": "3fe01991",
   "metadata": {},
   "outputs": [
    {
     "ename": "ValueError",
     "evalue": "Bilateral filter is not implemented for grayscale images of 3 or more dimensions, but input image has (217, 214, 3) shape. Use ``channel_axis=-1`` for 2D RGB images.",
     "output_type": "error",
     "traceback": [
      "\u001b[1;31m---------------------------------------------------------------------------\u001b[0m",
      "\u001b[1;31mValueError\u001b[0m                                Traceback (most recent call last)",
      "Input \u001b[1;32mIn [64]\u001b[0m, in \u001b[0;36m<cell line: 3>\u001b[1;34m()\u001b[0m\n\u001b[0;32m      1\u001b[0m \u001b[38;5;28;01mfrom\u001b[39;00m \u001b[38;5;21;01mskimage\u001b[39;00m\u001b[38;5;21;01m.\u001b[39;00m\u001b[38;5;21;01mrestoration\u001b[39;00m \u001b[38;5;28;01mimport\u001b[39;00m denoise_bilateral\n\u001b[0;32m      2\u001b[0m Noisy_image\u001b[38;5;241m=\u001b[39mplt\u001b[38;5;241m.\u001b[39mimread(\u001b[38;5;124m'\u001b[39m\u001b[38;5;124mnoisy.jpg\u001b[39m\u001b[38;5;124m'\u001b[39m)\n\u001b[1;32m----> 3\u001b[0m denoised_image\u001b[38;5;241m=\u001b[39m\u001b[43mdenoise_bilateral\u001b[49m\u001b[43m(\u001b[49m\u001b[43mNoisy_image\u001b[49m\u001b[43m)\u001b[49m\n\u001b[0;32m      4\u001b[0m Plot_Comparison(Noisy_image,denoised_image,\u001b[38;5;124m'\u001b[39m\u001b[38;5;124mdenoised_image\u001b[39m\u001b[38;5;124m'\u001b[39m)\n",
      "File \u001b[1;32m~\\anaconda3\\lib\\site-packages\\skimage\\_shared\\utils.py:394\u001b[0m, in \u001b[0;36mchannel_as_last_axis.__call__.<locals>.fixed_func\u001b[1;34m(*args, **kwargs)\u001b[0m\n\u001b[0;32m    391\u001b[0m channel_axis \u001b[38;5;241m=\u001b[39m kwargs\u001b[38;5;241m.\u001b[39mget(\u001b[38;5;124m'\u001b[39m\u001b[38;5;124mchannel_axis\u001b[39m\u001b[38;5;124m'\u001b[39m, \u001b[38;5;28;01mNone\u001b[39;00m)\n\u001b[0;32m    393\u001b[0m \u001b[38;5;28;01mif\u001b[39;00m channel_axis \u001b[38;5;129;01mis\u001b[39;00m \u001b[38;5;28;01mNone\u001b[39;00m:\n\u001b[1;32m--> 394\u001b[0m     \u001b[38;5;28;01mreturn\u001b[39;00m func(\u001b[38;5;241m*\u001b[39margs, \u001b[38;5;241m*\u001b[39m\u001b[38;5;241m*\u001b[39mkwargs)\n\u001b[0;32m    396\u001b[0m \u001b[38;5;66;03m# TODO: convert scalars to a tuple in anticipation of eventually\u001b[39;00m\n\u001b[0;32m    397\u001b[0m \u001b[38;5;66;03m#       supporting a tuple of channel axes. Right now, only an\u001b[39;00m\n\u001b[0;32m    398\u001b[0m \u001b[38;5;66;03m#       integer or a single-element tuple is supported, though.\u001b[39;00m\n\u001b[0;32m    399\u001b[0m \u001b[38;5;28;01mif\u001b[39;00m np\u001b[38;5;241m.\u001b[39misscalar(channel_axis):\n",
      "File \u001b[1;32m~\\anaconda3\\lib\\site-packages\\skimage\\_shared\\utils.py:348\u001b[0m, in \u001b[0;36mdeprecate_multichannel_kwarg.__call__.<locals>.fixed_func\u001b[1;34m(*args, **kwargs)\u001b[0m\n\u001b[0;32m    345\u001b[0m     kwargs[\u001b[38;5;124m'\u001b[39m\u001b[38;5;124mchannel_axis\u001b[39m\u001b[38;5;124m'\u001b[39m] \u001b[38;5;241m=\u001b[39m convert[kwargs\u001b[38;5;241m.\u001b[39mpop(\u001b[38;5;124m'\u001b[39m\u001b[38;5;124mmultichannel\u001b[39m\u001b[38;5;124m'\u001b[39m)]\n\u001b[0;32m    347\u001b[0m \u001b[38;5;66;03m# Call the function with the fixed arguments\u001b[39;00m\n\u001b[1;32m--> 348\u001b[0m \u001b[38;5;28;01mreturn\u001b[39;00m func(\u001b[38;5;241m*\u001b[39margs, \u001b[38;5;241m*\u001b[39m\u001b[38;5;241m*\u001b[39mkwargs)\n",
      "File \u001b[1;32m~\\anaconda3\\lib\\site-packages\\skimage\\restoration\\_denoise.py:208\u001b[0m, in \u001b[0;36mdenoise_bilateral\u001b[1;34m(image, win_size, sigma_color, sigma_spatial, bins, mode, cval, multichannel, channel_axis)\u001b[0m\n\u001b[0;32m    206\u001b[0m \u001b[38;5;28;01melse\u001b[39;00m:\n\u001b[0;32m    207\u001b[0m     \u001b[38;5;28;01mif\u001b[39;00m image\u001b[38;5;241m.\u001b[39mndim \u001b[38;5;241m>\u001b[39m \u001b[38;5;241m2\u001b[39m:\n\u001b[1;32m--> 208\u001b[0m         \u001b[38;5;28;01mraise\u001b[39;00m \u001b[38;5;167;01mValueError\u001b[39;00m(\u001b[38;5;124mf\u001b[39m\u001b[38;5;124m'\u001b[39m\u001b[38;5;124mBilateral filter is not implemented for \u001b[39m\u001b[38;5;124m'\u001b[39m\n\u001b[0;32m    209\u001b[0m                          \u001b[38;5;124mf\u001b[39m\u001b[38;5;124m'\u001b[39m\u001b[38;5;124mgrayscale images of 3 or more dimensions, \u001b[39m\u001b[38;5;124m'\u001b[39m\n\u001b[0;32m    210\u001b[0m                          \u001b[38;5;124mf\u001b[39m\u001b[38;5;124m'\u001b[39m\u001b[38;5;124mbut input image has \u001b[39m\u001b[38;5;132;01m{\u001b[39;00mimage\u001b[38;5;241m.\u001b[39mshape\u001b[38;5;132;01m}\u001b[39;00m\u001b[38;5;124m shape. Use \u001b[39m\u001b[38;5;124m'\u001b[39m\n\u001b[0;32m    211\u001b[0m                          \u001b[38;5;124mf\u001b[39m\u001b[38;5;124m'\u001b[39m\u001b[38;5;124m``channel_axis=-1`` for 2D RGB images.\u001b[39m\u001b[38;5;124m'\u001b[39m)\n\u001b[0;32m    213\u001b[0m \u001b[38;5;28;01mif\u001b[39;00m win_size \u001b[38;5;129;01mis\u001b[39;00m \u001b[38;5;28;01mNone\u001b[39;00m:\n\u001b[0;32m    214\u001b[0m     win_size \u001b[38;5;241m=\u001b[39m \u001b[38;5;28mmax\u001b[39m(\u001b[38;5;241m5\u001b[39m, \u001b[38;5;241m2\u001b[39m \u001b[38;5;241m*\u001b[39m \u001b[38;5;28mint\u001b[39m(ceil(\u001b[38;5;241m3\u001b[39m \u001b[38;5;241m*\u001b[39m sigma_spatial)) \u001b[38;5;241m+\u001b[39m \u001b[38;5;241m1\u001b[39m)\n",
      "\u001b[1;31mValueError\u001b[0m: Bilateral filter is not implemented for grayscale images of 3 or more dimensions, but input image has (217, 214, 3) shape. Use ``channel_axis=-1`` for 2D RGB images."
     ]
    }
   ],
   "source": [
    "from skimage.restoration import denoise_bilateral\n",
    "Noisy_image=plt.imread('noisy.jpg')\n",
    "denoised_image=denoise_bilateral(Noisy_image)\n",
    "Plot_Comparison(Noisy_image,denoised_image,'denoised_image')"
   ]
  },
  {
   "cell_type": "code",
   "execution_count": null,
   "id": "423ef27f",
   "metadata": {},
   "outputs": [],
   "source": []
  },
  {
   "cell_type": "code",
   "execution_count": null,
   "id": "c81f2305",
   "metadata": {},
   "outputs": [],
   "source": []
  }
 ],
 "metadata": {
  "kernelspec": {
   "display_name": "Python 3 (ipykernel)",
   "language": "python",
   "name": "python3"
  },
  "language_info": {
   "codemirror_mode": {
    "name": "ipython",
    "version": 3
   },
   "file_extension": ".py",
   "mimetype": "text/x-python",
   "name": "python",
   "nbconvert_exporter": "python",
   "pygments_lexer": "ipython3",
   "version": "3.9.12"
  }
 },
 "nbformat": 4,
 "nbformat_minor": 5
}
